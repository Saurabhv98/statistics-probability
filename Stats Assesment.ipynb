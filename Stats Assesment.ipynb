{
 "cells": [
  {
   "cell_type": "code",
   "execution_count": 30,
   "metadata": {},
   "outputs": [],
   "source": [
    "import pandas as pd\n",
    "import numpy as np"
   ]
  },
  {
   "cell_type": "markdown",
   "metadata": {
    "collapsed": true
   },
   "source": [
    "## 1.The experiment shows that the average monthly electricity consumption for a house is 458 units. The study records a total of 3206 units of electricity consumption. Calculate the duration of the experiment. Also, identify the criteria to calculate the median consumption. \n"
   ]
  },
  {
   "cell_type": "code",
   "execution_count": 2,
   "metadata": {},
   "outputs": [
    {
     "name": "stdout",
     "output_type": "stream",
     "text": [
      "Duration of the experiment: 7.0 months\n"
     ]
    }
   ],
   "source": [
    "# set the average electricity consumption in 'x_bar'\n",
    "x_bar = 458\n",
    "\n",
    "# set the total electricity consumption in 'sum_x'\n",
    "sum_x = 3206\n",
    "\n",
    "# the average/mean is calculated as the ratio of total consumption to the number of recorded months (n)\n",
    "# thus, 'n' can be calculated as the ration of 'sum_x' to 'x_bar'\n",
    "n = sum_x / x_bar\n",
    "\n",
    "# print the number of months\n",
    "print('Duration of the experiment:', n, 'months')"
   ]
  },
  {
   "cell_type": "markdown",
   "metadata": {},
   "source": [
    "As n = 7 (odd number), the median consumption is the middlemost observation when the data is arranged in the ascending or descending order."
   ]
  },
  {
   "cell_type": "markdown",
   "metadata": {
    "collapsed": true
   },
   "source": [
    "## 2. Find the wage above which 65% of wages would lie.\n",
    "     "
   ]
  },
  {
   "cell_type": "markdown",
   "metadata": {},
   "source": [
    "            Consider the wages (in dollars) of 15 workers as given below:\n",
    "\n",
    "            wage = [247, 228, 352, 298, 345, 312, 300, 285, 246, 352, 297, 304, 265, 325, 276]"
   ]
  },
  {
   "cell_type": "code",
   "execution_count": 3,
   "metadata": {},
   "outputs": [
    {
     "data": {
      "text/plain": [
       "284.1"
      ]
     },
     "execution_count": 3,
     "metadata": {},
     "output_type": "execute_result"
    }
   ],
   "source": [
    "# consider the series of wages\n",
    "wage = pd.Series([247, 228, 352, 298, 345, 312, 300, 285, 246, 352, 297, 304, 265, 325, 276])\n",
    "\n",
    "# compute 35th percentile using 'quantile'\n",
    "# As 35th percentile divides the data in 35-65%\n",
    "wage.quantile(0.35)"
   ]
  },
  {
   "cell_type": "markdown",
   "metadata": {},
   "source": [
    "65% of wages are above 284.1 dollars."
   ]
  },
  {
   "cell_type": "markdown",
   "metadata": {
    "collapsed": true
   },
   "source": [
    "## 3. Jimmy requires 38 minutes on average, with a standard deviation of 5 minutes to distribute the newspapers. On the other hand, Richard requires 27 minutes on average, with a standard deviation of 6 minutes to distribute the newspapers. Identify most consistent distributor.\n"
   ]
  },
  {
   "cell_type": "code",
   "execution_count": 4,
   "metadata": {
    "scrolled": true
   },
   "outputs": [
    {
     "name": "stdout",
     "output_type": "stream",
     "text": [
      "C.V. for Jimmy: 13.157894736842104\n",
      "C.V. for Richard: 22.22222222222222\n"
     ]
    }
   ],
   "source": [
    "# average time for Jimmy \n",
    "jimmy_avg = 38\n",
    "\n",
    "# standard deviation for Jimmy\n",
    "jimmy_std = 5\n",
    "\n",
    "# average time for Richard \n",
    "richard_avg = 27\n",
    "\n",
    "# standard deviation for Richard\n",
    "richard_std = 6\n",
    "\n",
    "# calculate coefficient of variation for both the distributors\n",
    "jimmy_cv = (jimmy_std/jimmy_avg)*100\n",
    "richard_cv = (richard_std/richard_avg)*100\n",
    "\n",
    "# print the cv \n",
    "print('C.V. for Jimmy:', jimmy_cv)\n",
    "print('C.V. for Richard:', richard_cv)"
   ]
  },
  {
   "cell_type": "markdown",
   "metadata": {},
   "source": [
    "## 4. Identify the extreme weights from the given list of weights using the interquartile range.\n",
    "Consider the weights (in kg) of 10\n",
    "students as given below:\n",
    "weight = [14.7, 15.2, 39.8, 44.5, 21.2,\n",
    "28.5, 35.2, 19.7, 40.4, 16.5]\n"
   ]
  },
  {
   "cell_type": "code",
   "execution_count": 5,
   "metadata": {},
   "outputs": [
    {
     "data": {
      "text/plain": [
       "4    15.2\n",
       "5    78.5\n",
       "6    75.2\n",
       "7    19.7\n",
       "dtype: float64"
      ]
     },
     "execution_count": 5,
     "metadata": {},
     "output_type": "execute_result"
    }
   ],
   "source": [
    "# consider a series of given weights\n",
    "weight = pd.Series([44.7, 55.2, 49.8, 44.5, 15.2, 78.5, 75.2, 19.7, 50.4, 46.5])\n",
    "\n",
    "# calculate the first quartile (Q1)\n",
    "Q1 = weight.quantile(0.25)\n",
    "\n",
    "# calculate the third quartile (Q3)\n",
    "Q3 = weight.quantile(0.75)\n",
    "\n",
    "# calculate the interquartile range (IQR)\n",
    "IQR = Q3 - Q1\n",
    "\n",
    "# retrieve the outliers\n",
    "# pass the condition to detect the outliers\n",
    "# '|' is used as 'OR' operator on multiple conditions   \n",
    "outliers = weight[(weight < (Q1 - 1.5 * IQR)) | (weight > (Q3 + 1.5 * IQR))]\n",
    "\n",
    "# print the weights\n",
    "outliers"
   ]
  },
  {
   "cell_type": "markdown",
   "metadata": {
    "collapsed": true
   },
   "source": [
    "## 5. A car showroom in Ohio exhibits a total of 12 cars of different brands. Identify the type of skewness in the showroom prices of cars. \n"
   ]
  },
  {
   "cell_type": "markdown",
   "metadata": {},
   "source": [
    "#### Consider the prices (in dollars) for 12 cars as given below:\n",
    " price = [14751, 16422, 15398, 9445, 12589, 11687, 10692, 8475, 11184, 9961, 12898, 11905]"
   ]
  },
  {
   "cell_type": "code",
   "execution_count": 29,
   "metadata": {},
   "outputs": [
    {
     "name": "stdout",
     "output_type": "stream",
     "text": [
      "Coefficient of Skewness: 0.45265633664561267\n"
     ]
    }
   ],
   "source": [
    "# consider the series of car prices\n",
    "price = pd.Series([14751, 16420, 15398, 9445, 12589, 11687, 10692, 8775, 11184, 9961, 12898, 11905])\n",
    "# calculate mean\n",
    "mean = np.mean(price)\n",
    "\n",
    "# calculate median\n",
    "median = np.median(price)\n",
    "\n",
    "# calculate standard deviation\n",
    "std = np.std(price)\n",
    "\n",
    "# calculate the coefficient of skewness\n",
    "skewness = (3.0*(mean - median))/std\n",
    "\n",
    "# print the value of skewness\n",
    "print('Coefficient of Skewness:', skewness)"
   ]
  },
  {
   "cell_type": "markdown",
   "metadata": {
    "collapsed": true
   },
   "source": [
    "## 6. A company offers its customers to take a vehicle and an eduacational loan. A study shows that the probability that a customer takes a vehicle loan is 0.35, the probability that a customer takes an educational loan is 0.46 and the probability that a customer takes at least one of the loan is 0.59. Find the probability that a customer takes both vehicle and educational loans.\n"
   ]
  },
  {
   "cell_type": "code",
   "execution_count": 3,
   "metadata": {},
   "outputs": [
    {
     "name": "stdout",
     "output_type": "stream",
     "text": [
      "The probability that a customer takes both the loans: 0.22000000000000008\n"
     ]
    }
   ],
   "source": [
    "prob_vehicle = 0.35\n",
    "\n",
    "# consider an event B: Customer takes an educational loan\n",
    "# probability that a customer takes an educational loan\n",
    "prob_edu = 0.46\n",
    "\n",
    "# probability that a customer takes one of the loans (P(A ⋃ B))\n",
    "prob_vehicle_or_edu = 0.59\n",
    "prob_vehicle_and_edu = prob_vehicle + prob_edu - prob_vehicle_or_edu\n",
    "\n",
    "print('The probability that a customer takes both the loans:', prob_vehicle_and_edu)"
   ]
  },
  {
   "cell_type": "markdown",
   "metadata": {
    "collapsed": true
   },
   "source": [
    "## 7. Consider two independent events X and Y. If the probability of occurrence of event X is 0.4 and the probability of occurrence of at least one event is 0.6. Find the probability of occurrence of event Y. \n"
   ]
  },
  {
   "cell_type": "code",
   "execution_count": 8,
   "metadata": {},
   "outputs": [
    {
     "name": "stdout",
     "output_type": "stream",
     "text": [
      "Thr probability of occurrence of event Y: 0.33333333333333326\n"
     ]
    }
   ],
   "source": [
    "# probability of occurrence of event X\n",
    "prob_X = 0.4\n",
    "\n",
    "# probability of occurrence of at least one event\n",
    "prob_X_or_Y = 0.6\n",
    "prob_Y = (prob_X_or_Y - prob_X) / (1 - prob_X)\n",
    "\n",
    "print('Thr probability of occurrence of event Y:', prob_Y)"
   ]
  },
  {
   "cell_type": "markdown",
   "metadata": {
    "collapsed": true
   },
   "source": [
    "## 8. Consider a vending machine containing 6 boxes each of four different juice flavors (Mango, Apple, Guava and Kiwi). Find the probability that the juice box picked is either of Mango or Guava flavor.                 "
   ]
  },
  {
   "cell_type": "code",
   "execution_count": 4,
   "metadata": {},
   "outputs": [
    {
     "name": "stdout",
     "output_type": "stream",
     "text": [
      "The probability that the juice box picked is either of Mango or Guava flavor: 0.5\n"
     ]
    }
   ],
   "source": [
    "boxes = 6\n",
    "total_boxes = 6*4\n",
    "prob_mango = boxes / total_boxes\n",
    "prob_guava = boxes / total_boxes\n",
    "\n",
    "req_prob = prob_mango + prob_guava\n",
    "\n",
    "print('The probability that the juice box picked is either of Mango or Guava flavor:', req_prob)"
   ]
  },
  {
   "cell_type": "markdown",
   "metadata": {
    "collapsed": true
   },
   "source": [
    "## 9. Consider a student appearing for 3 different exams either pass or fail in each exam. Let a marginal probability of a student passing the Economics, Mathematics and German exam be 0.67. The probability that the student fails in the Economics exam is 0.10 and the probability that the student fails in the German exam is 0.09. Find the probability that a student fails in the Mathematics exam.\n"
   ]
  },
  {
   "cell_type": "markdown",
   "metadata": {},
   "source": [
    "Consider a discrete variable `X` denoting the passing or failing of an exam and a discrete variable `Y` denoting the three subjects of the exam. The sum of marginal probabilities of X (or Y) should be always equal to 1."
   ]
  },
  {
   "cell_type": "code",
   "execution_count": 5,
   "metadata": {},
   "outputs": [
    {
     "name": "stdout",
     "output_type": "stream",
     "text": [
      "The probability that a student fails in Mathematics exam 0.13999999999999996\n"
     ]
    }
   ],
   "source": [
    "prob_X_pass = 0.67\n",
    "prob_X_fail = 1 - prob_X_pass\n",
    "prob_eco_fail = 0.10\n",
    "prob_german_fail = 0.09\n",
    "prob_maths_fail = prob_X_fail - prob_eco_fail - prob_german_fail \n",
    "\n",
    "print('The probability that a student fails in Mathematics exam', prob_maths_fail)"
   ]
  },
  {
   "cell_type": "markdown",
   "metadata": {
    "collapsed": true
   },
   "source": [
    "## 10. The probabilities that a machine will produce 2, 5, 7, 9 defective batteries in a day are 0.3, 0.22, 0.15, 0.1 respectively. Find the expected number of defective batteries produced in a day.\n"
   ]
  },
  {
   "cell_type": "code",
   "execution_count": 19,
   "metadata": {},
   "outputs": [
    {
     "ename": "NameError",
     "evalue": "name 'np' is not defined",
     "output_type": "error",
     "traceback": [
      "\u001b[1;31m---------------------------------------------------------------------------\u001b[0m",
      "\u001b[1;31mNameError\u001b[0m                                 Traceback (most recent call last)",
      "Input \u001b[1;32mIn [19]\u001b[0m, in \u001b[0;36m<cell line: 1>\u001b[1;34m()\u001b[0m\n\u001b[1;32m----> 1\u001b[0m X \u001b[38;5;241m=\u001b[39m \u001b[43mnp\u001b[49m\u001b[38;5;241m.\u001b[39marray([\u001b[38;5;241m2\u001b[39m, \u001b[38;5;241m5\u001b[39m, \u001b[38;5;241m7\u001b[39m, \u001b[38;5;241m9\u001b[39m])\n\u001b[0;32m      2\u001b[0m prob_X \u001b[38;5;241m=\u001b[39m np\u001b[38;5;241m.\u001b[39marray([\u001b[38;5;241m0.3\u001b[39m, \u001b[38;5;241m0.22\u001b[39m, \u001b[38;5;241m0.15\u001b[39m, \u001b[38;5;241m0.1\u001b[39m])\n\u001b[0;32m      4\u001b[0m \u001b[38;5;66;03m# caclulate the expected number of defective batteries\u001b[39;00m\n",
      "\u001b[1;31mNameError\u001b[0m: name 'np' is not defined"
     ]
    }
   ],
   "source": [
    "X = np.array([2, 5, 7, 9])\n",
    "prob_X = np.array([0.3, 0.22, 0.15, 0.1])\n",
    "\n",
    "# caclulate the expected number of defective batteries\n",
    "expected_value = np.sum(X*prob_X)\n",
    "\n",
    "print('Expected number of defective batteries produced in a day:', expected_value)"
   ]
  },
  {
   "cell_type": "markdown",
   "metadata": {
    "collapsed": true
   },
   "source": [
    "## 11. In a pack of 52 cards, what is the probability of selecting a red card?\n"
   ]
  },
  {
   "cell_type": "code",
   "execution_count": 14,
   "metadata": {},
   "outputs": [
    {
     "name": "stdout",
     "output_type": "stream",
     "text": [
      "The probability of selecting a red card 0.5\n"
     ]
    }
   ],
   "source": [
    "probability_of_selecting_card = 1/52\n",
    "required_probability = 26 * probability_of_selecting_card\n",
    "print('The probability of selecting a red card', required_probability)"
   ]
  },
  {
   "cell_type": "markdown",
   "metadata": {
    "collapsed": true
   },
   "source": [
    "## 12. From the experience, it is seen that 4% of the tyres produced by the machine are defective. Out of the 10 tyres produced, find the probability that at most 3 are defective.\n"
   ]
  },
  {
   "cell_type": "code",
   "execution_count": 11,
   "metadata": {},
   "outputs": [
    {
     "name": "stdout",
     "output_type": "stream",
     "text": [
      "The probability that at most 3 tyres out of 10 are defective: 0.9995574006399994\n"
     ]
    }
   ],
   "source": [
    "from scipy.stats import binom\n",
    "\n",
    "# X: the number of defective tyres produced \n",
    "# n = 10\n",
    "# p = 0.04\n",
    "# required probability is P(X ≤ 3) = P(X = 0) + P(X = 1) + P(X = 2) + P(X = 3)\n",
    "req_prob = binom.pmf(0, 10, 0.04) + binom.pmf(1, 10, 0.04) + binom.pmf(2, 10, 0.04) + binom.pmf(3, 10, 0.04)\n",
    "\n",
    "print('The probability that at most 3 tyres out of 10 are defective:', req_prob)"
   ]
  },
  {
   "cell_type": "code",
   "execution_count": 12,
   "metadata": {},
   "outputs": [
    {
     "data": {
      "text/plain": [
       "0.9995574006399999"
      ]
     },
     "execution_count": 12,
     "metadata": {},
     "output_type": "execute_result"
    }
   ],
   "source": [
    "# or one may use the cdf() and pass the k to get P(X ≤ k)\n",
    "binom.cdf(3, 10, 0.04) "
   ]
  },
  {
   "cell_type": "markdown",
   "metadata": {
    "collapsed": true
   },
   "source": [
    "## 13. The number of trucks crossing a bridge during the day follow a Poisson distribution with mean 18. What is the probability that on a randomly selected day 12 trucks would have crossed the bridge?\n"
   ]
  },
  {
   "cell_type": "code",
   "execution_count": 13,
   "metadata": {},
   "outputs": [
    {
     "name": "stdout",
     "output_type": "stream",
     "text": [
      "The probability that on a randomly selected day 12 trucks would have crossed the bridge: 0.03678175293604137\n"
     ]
    }
   ],
   "source": [
    "# import the required library\n",
    "from scipy.stats import poisson\n",
    "\n",
    "# X: number of trucks crossing a bridge during the day\n",
    "# x = 12\n",
    "# m = 18\n",
    "# The required probability is P(X = 12)\n",
    "req_prob = poisson.pmf(12, 18)\n",
    "\n",
    "print('The probability that on a randomly selected day 12 trucks would have crossed the bridge:', req_prob)"
   ]
  },
  {
   "cell_type": "markdown",
   "metadata": {
    "collapsed": true
   },
   "source": [
    "## 14. A random variable follows uniform distribution in the interval 5 to 10. Obtain the mean and variance. "
   ]
  },
  {
   "cell_type": "code",
   "execution_count": 15,
   "metadata": {},
   "outputs": [],
   "source": [
    "# lower limit of the uniform distribution \n",
    "lower_limit = 5\n",
    "\n",
    "# upper limit of the uniform distribution \n",
    "upper_limit = 10"
   ]
  },
  {
   "cell_type": "code",
   "execution_count": 16,
   "metadata": {},
   "outputs": [
    {
     "name": "stdout",
     "output_type": "stream",
     "text": [
      "Mean: 2.5\n"
     ]
    }
   ],
   "source": [
    "# compute the mean of the uniform distribution\n",
    "uniform_mean = (upper_limit - lower_limit) / 2\n",
    "\n",
    "# print the mean\n",
    "print('Mean:', uniform_mean)"
   ]
  },
  {
   "cell_type": "code",
   "execution_count": 17,
   "metadata": {},
   "outputs": [
    {
     "name": "stdout",
     "output_type": "stream",
     "text": [
      "Variance 2.0833333333333335\n"
     ]
    }
   ],
   "source": [
    "# compute the variance of the uniform distribution\n",
    "uniform_variance = (upper_limit - lower_limit)**2 / 12\n",
    "\n",
    "# print the variance\n",
    "print('Variance', uniform_variance)"
   ]
  },
  {
   "cell_type": "markdown",
   "metadata": {
    "collapsed": true
   },
   "source": [
    "### 15. Consider an random variable that follows normal distribution with mean 5 and variance 10 obtain\n",
    "1. P(X < 1)<br>\n",
    "2. P(X > 5)<br>\n",
    "3. P(3 < X < 7)\n"
   ]
  },
  {
   "cell_type": "code",
   "execution_count": 25,
   "metadata": {},
   "outputs": [],
   "source": [
    "from scipy.stats import norm\n",
    "mu = 5 \n",
    "var =10\n",
    "\n",
    "# standard deviation of the distribution \n",
    "sd = np.sqrt(var)"
   ]
  },
  {
   "cell_type": "code",
   "execution_count": 26,
   "metadata": {},
   "outputs": [
    {
     "data": {
      "text/plain": [
       "0.1029516053660342"
      ]
     },
     "execution_count": 26,
     "metadata": {},
     "output_type": "execute_result"
    }
   ],
   "source": [
    "# 1. P(X < 1)\n",
    "# use cdf() to calculate P(X < k)\n",
    "norm.cdf(1, mu, sd)"
   ]
  },
  {
   "cell_type": "code",
   "execution_count": 27,
   "metadata": {},
   "outputs": [
    {
     "data": {
      "text/plain": [
       "0.5"
      ]
     },
     "execution_count": 27,
     "metadata": {},
     "output_type": "execute_result"
    }
   ],
   "source": [
    "# 2. P(X > 5)\n",
    "# use cdf() to calculate P(X < k)\n",
    "1 - norm.cdf(5, mu, sd)"
   ]
  },
  {
   "cell_type": "code",
   "execution_count": 28,
   "metadata": {},
   "outputs": [
    {
     "data": {
      "text/plain": [
       "0.2417303374571288"
      ]
     },
     "execution_count": 28,
     "metadata": {},
     "output_type": "execute_result"
    }
   ],
   "source": [
    "# 3. P(3 < X < 7)\n",
    "# use cdf() to calculate P(X < k)\n",
    "norm.cdf(6, 3, 2) - norm.cdf(4, 3, 2)"
   ]
  },
  {
   "cell_type": "code",
   "execution_count": null,
   "metadata": {},
   "outputs": [],
   "source": []
  }
 ],
 "metadata": {
  "kernelspec": {
   "display_name": "Python 3 (ipykernel)",
   "language": "python",
   "name": "python3"
  },
  "language_info": {
   "codemirror_mode": {
    "name": "ipython",
    "version": 3
   },
   "file_extension": ".py",
   "mimetype": "text/x-python",
   "name": "python",
   "nbconvert_exporter": "python",
   "pygments_lexer": "ipython3",
   "version": "3.9.12"
  }
 },
 "nbformat": 4,
 "nbformat_minor": 2
}
